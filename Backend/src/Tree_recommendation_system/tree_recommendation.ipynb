{
  "nbformat": 4,
  "nbformat_minor": 0,
  "metadata": {
    "colab": {
      "provenance": []
    },
    "kernelspec": {
      "name": "python3",
      "display_name": "Python 3"
    },
    "language_info": {
      "name": "python"
    }
  },
  "cells": [
    {
      "cell_type": "code",
      "execution_count": 2,
      "metadata": {
        "id": "oC_qfHPjZrmX"
      },
      "outputs": [],
      "source": [
        "import pandas as pd\n",
        "import re\n",
        "\n",
        "df = pd.read_csv(\"/content/complete_tree_species_data.csv\")\n",
        "def parse_range(value):\n",
        "    if isinstance(value, str):\n",
        "        value = value.replace(\"%\", \"\").strip()\n",
        "        match = re.match(r\"(\\d+\\.?\\d*)-(\\d+\\.?\\d*)\", value)\n",
        "        if match:\n",
        "            return float(match.group(1)), float(match.group(2))\n",
        "    return None, None\n",
        "\n",
        "df[\"pH_min\"], df[\"pH_max\"] = zip(*df[\"pH\"].map(parse_range))\n",
        "df[\"Humidity_min\"], df[\"Humidity_max\"] = zip(*df[\"Humidity\"].map(parse_range))\n",
        "\n",
        "df[\"pH_mid\"] = (df[\"pH_min\"] + df[\"pH_max\"]) / 2\n",
        "df[\"Humidity_mid\"] = (df[\"Humidity_min\"] + df[\"Humidity_max\"]) / 2\n",
        "\n",
        "def recommend_trees(ph, humidity, moisture, tree_type=None, min_lifespan=20, include_type=False):\n",
        "    df_filtered = df[\n",
        "        (df[\"Moisture\"].str.lower() == moisture.lower()) &\n",
        "        (df[\"Lifespan\"] >= min_lifespan)\n",
        "    ].copy()\n",
        "\n",
        "    if tree_type and tree_type.strip():\n",
        "        df_filtered = df_filtered[df_filtered[\"Type\"].str.lower() == tree_type.lower()]\n",
        "\n",
        "    df_filtered[\"score\"] = ((df_filtered[\"pH_mid\"] - ph)**2 +\n",
        "                            (df_filtered[\"Humidity_mid\"] - humidity)**2) ** 0.5\n",
        "\n",
        "    df_filtered = df_filtered.sort_values(\"score\")\n",
        "\n",
        "    if include_type:\n",
        "        result = df_filtered[[\"Name\", \"Lifespan\", \"Type\"]]\n",
        "    else:\n",
        "        result = df_filtered[[\"Name\", \"Lifespan\"]]\n",
        "\n",
        "    return result"
      ]
    }
  ]
}