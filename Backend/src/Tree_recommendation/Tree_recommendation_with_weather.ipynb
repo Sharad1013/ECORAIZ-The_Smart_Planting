{
  "nbformat": 4,
  "nbformat_minor": 0,
  "metadata": {
    "colab": {
      "provenance": []
    },
    "kernelspec": {
      "name": "python3",
      "display_name": "Python 3"
    },
    "language_info": {
      "name": "python"
    }
  },
  "cells": [
    {
      "cell_type": "code",
      "source": [
        "import pandas as pd\n",
        "import re\n",
        "df = pd.read_csv(\"/content/tree_dataset_with_verified_weather.csv\")\n",
        "def parse_range(value):\n",
        "    if isinstance(value, str):\n",
        "        value = value.replace(\"%\", \"\").strip()\n",
        "        match = re.match(r\"(\\d+\\.?\\d*)-(\\d+\\.?\\d*)\", value)\n",
        "        if match:\n",
        "            return float(match.group(1)), float(match.group(2))\n",
        "    return None, None\n",
        "\n",
        "df[\"pH_min\"], df[\"pH_max\"] = zip(*df[\"pH\"].map(parse_range))\n",
        "df[\"Humidity_min\"], df[\"Humidity_max\"] = zip(*df[\"Humidity\"].map(parse_range))\n",
        "\n",
        "df[\"pH_mid\"] = (df[\"pH_min\"] + df[\"pH_max\"]) / 2\n",
        "df[\"Humidity_mid\"] = (df[\"Humidity_min\"] + df[\"Humidity_max\"]) / 2\n",
        "\n",
        "def recommend_trees(\n",
        "    ph, humidity, moisture,\n",
        "    climate_zone=None, weather_condition=None,\n",
        "    tree_type=None, min_lifespan=20, include_type=False\n",
        "):\n",
        "    if climate_zone and weather_condition:\n",
        "        raise ValueError(\"Please provide only one: climate_zone OR weather_condition, not both.\")\n",
        "\n",
        "    df_filtered = df[\n",
        "        (df[\"Moisture\"].str.lower() == moisture.lower()) &\n",
        "        (df[\"Lifespan\"] >= min_lifespan)\n",
        "    ].copy()\n",
        "\n",
        "    if climate_zone and climate_zone.strip():\n",
        "        df_filtered = df_filtered[df_filtered[\"Climate Zone\"].str.lower() == climate_zone.lower()]\n",
        "\n",
        "    elif weather_condition and weather_condition.strip():\n",
        "        df_filtered = df_filtered[df_filtered[\"Weather Condition\"].str.lower() == weather_condition.lower()]\n",
        "\n",
        "    if tree_type and tree_type.strip():\n",
        "        df_filtered = df_filtered[df_filtered[\"Type\"].str.lower() == tree_type.lower()]\n",
        "\n",
        "    df_filtered[\"score\"] = ((df_filtered[\"pH_mid\"] - ph)**2 +\n",
        "                            (df_filtered[\"Humidity_mid\"] - humidity)**2) ** 0.5\n",
        "    df_filtered = df_filtered.sort_values(\"score\")\n",
        "\n",
        "    if include_type:\n",
        "        result = df_filtered[[\"Name\", \"Lifespan\", \"Type\"]]\n",
        "    else:\n",
        "        result = df_filtered[[\"Name\", \"Lifespan\"]]\n",
        "\n",
        "    return result\n"
      ],
      "metadata": {
        "id": "kn8bQsdJ1LNh"
      },
      "execution_count": 9,
      "outputs": []
    }
  ]
}